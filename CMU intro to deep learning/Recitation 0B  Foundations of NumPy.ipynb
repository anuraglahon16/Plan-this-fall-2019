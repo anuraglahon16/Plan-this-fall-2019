{
 "cells": [
  {
   "cell_type": "markdown",
   "metadata": {},
   "source": [
    "##  1. Setting up numpy"
   ]
  },
  {
   "cell_type": "markdown",
   "metadata": {},
   "source": [
    "## Importing NumPy"
   ]
  },
  {
   "cell_type": "code",
   "execution_count": 1,
   "metadata": {},
   "outputs": [
    {
     "data": {
      "text/plain": [
       "'1.16.2'"
      ]
     },
     "execution_count": 1,
     "metadata": {},
     "output_type": "execute_result"
    }
   ],
   "source": [
    "import numpy as np\n",
    "np.random.seed(0)\n",
    "np.version.version"
   ]
  },
  {
   "cell_type": "markdown",
   "metadata": {},
   "source": [
    "## 2. Vector arrays"
   ]
  },
  {
   "cell_type": "code",
   "execution_count": 4,
   "metadata": {},
   "outputs": [
    {
     "name": "stdout",
     "output_type": "stream",
     "text": [
      "e1 = [1 0 0]\n",
      "e2 = [0 1 0]\n",
      "e3 = [0 0 1]\n"
     ]
    }
   ],
   "source": [
    "e1=np.array([1,0,0])\n",
    "e2=np.array([0,1,0])\n",
    "e3=np.array([0,0,1])\n",
    "\n",
    "print('e1 =',e1)\n",
    "print('e2 =',e2)\n",
    "print('e3 =',e3)"
   ]
  },
  {
   "cell_type": "markdown",
   "metadata": {},
   "source": [
    "## Dot product"
   ]
  },
  {
   "cell_type": "markdown",
   "metadata": {},
   "source": [
    "## The dot product of two given array is defined as a.b =|a||b|cos {$\\theta$}\n",
    "\n",
    "So because orthogonal vector arrays have $\\theta$ =90$^{\\circ}$ so we have cos 90$^{\\circ}$=0\n",
    "\n",
    "Therefore, e1.e2=e2.e3=e1.e3=0"
   ]
  },
  {
   "cell_type": "code",
   "execution_count": 3,
   "metadata": {},
   "outputs": [
    {
     "name": "stdout",
     "output_type": "stream",
     "text": [
      "e1.e2 = 0\n",
      "e1.e3 = 0\n",
      "e2.e3 = 0\n"
     ]
    }
   ],
   "source": [
    "e1=np.array([1,0,0])\n",
    "e2=np.array([0,1,0])\n",
    "e3=np.array([0,0,1])\n",
    "\n",
    "print('e1.e2 =',np.dot(e1,e2))\n",
    "print('e1.e3 =',np.dot(e1,e3))\n",
    "print('e2.e3 =',np.dot(e2,e3))"
   ]
  },
  {
   "cell_type": "markdown",
   "metadata": {},
   "source": [
    "Vector arrays that are the same $\\theta$ =0$^{\\circ}$ so we have cos 0$^{\\circ}$=1\n",
    "\n",
    "Therefore. e1.e1=e2.e2=e3.e3=1"
   ]
  },
  {
   "cell_type": "code",
   "execution_count": 8,
   "metadata": {},
   "outputs": [
    {
     "name": "stdout",
     "output_type": "stream",
     "text": [
      "e1.e1 = 1\n",
      "e2.e2 = 1\n",
      "e3.e3 = 1\n"
     ]
    }
   ],
   "source": [
    "print('e1.e1 =',np.dot(e1,e1))\n",
    "print('e2.e2 =',np.dot(e2,e2))\n",
    "print('e3.e3 =',np.dot(e3,e3))"
   ]
  },
  {
   "cell_type": "code",
   "execution_count": 9,
   "metadata": {},
   "outputs": [
    {
     "name": "stdout",
     "output_type": "stream",
     "text": [
      "a1*e1 = [3 0 0]\n"
     ]
    }
   ],
   "source": [
    "a1=3\n",
    "e1=np.array([1,0,0])\n",
    "print('a1*e1 =',a1*e1)"
   ]
  },
  {
   "cell_type": "code",
   "execution_count": 11,
   "metadata": {},
   "outputs": [
    {
     "name": "stdout",
     "output_type": "stream",
     "text": [
      "a = a1*e1 + a2*e1 + a3*e1 = [3 1 4]\n"
     ]
    }
   ],
   "source": [
    "a1=3\n",
    "a2=1\n",
    "a3=4\n",
    "a=a1*e1 + a2 *e2 + a3 *e3\n",
    "print('a = a1*e1 + a2*e1 + a3*e1 =',a)"
   ]
  },
  {
   "cell_type": "code",
   "execution_count": 13,
   "metadata": {},
   "outputs": [
    {
     "name": "stdout",
     "output_type": "stream",
     "text": [
      "sum of {i=1} to {3} of {ai ei} = [3. 1. 4.]\n"
     ]
    }
   ],
   "source": [
    "components=[a1,a2,a3]\n",
    "vectors=[e1,e2,e3]\n",
    "a=np.zeros(3)\n",
    "for i in range(len(components)):\n",
    "    a+=components[i] * vectors[i]\n",
    "print('sum of {i=1} to {3} of {ai ei} =',a)\n"
   ]
  },
  {
   "cell_type": "code",
   "execution_count": 20,
   "metadata": {},
   "outputs": [
    {
     "name": "stdout",
     "output_type": "stream",
     "text": [
      "Sum of each {component} in {components} = [3. 1. 4.]\n"
     ]
    }
   ],
   "source": [
    "a=np.zeros(3)\n",
    "for component,vector in zip(components,vectors):\n",
    "    a+=component*vector\n",
    "print('Sum of each {component} in {components} =',a)"
   ]
  },
  {
   "cell_type": "markdown",
   "metadata": {},
   "source": [
    "### Many ways below"
   ]
  },
  {
   "cell_type": "code",
   "execution_count": 15,
   "metadata": {},
   "outputs": [
    {
     "name": "stdout",
     "output_type": "stream",
     "text": [
      "44\n"
     ]
    }
   ],
   "source": [
    "u_components=[3,1,4]\n",
    "v_components=[1,5,9]\n",
    "\n",
    "u=u_components[0] * e1 + u_components[1] * e2 +u_components[2] *e3\n",
    "v=v_components[0] * e1 + v_components[1] * e2 +v_components[2] *e3\n",
    "result=np.dot(u,v)\n",
    "print(result)"
   ]
  },
  {
   "cell_type": "code",
   "execution_count": 16,
   "metadata": {},
   "outputs": [
    {
     "name": "stdout",
     "output_type": "stream",
     "text": [
      "44\n"
     ]
    }
   ],
   "source": [
    "e=[e1,e2,e3]\n",
    "\n",
    "result=0\n",
    "for i in range(len(e)):\n",
    "    for j in range(len(e)):\n",
    "        result+=u_components[i] * v_components[j] * (np.dot(e[i],e[j]))\n",
    "print(result)"
   ]
  },
  {
   "cell_type": "code",
   "execution_count": 17,
   "metadata": {},
   "outputs": [
    {
     "name": "stdout",
     "output_type": "stream",
     "text": [
      "44\n"
     ]
    }
   ],
   "source": [
    "u = np.array(u_components)\n",
    "v = np.array(v_components)\n",
    "\n",
    "result=u[0]*v[0] + u[1]*v[1] + u[2]*v[2]\n",
    "\n",
    "print(result)"
   ]
  },
  {
   "cell_type": "code",
   "execution_count": 18,
   "metadata": {},
   "outputs": [
    {
     "name": "stdout",
     "output_type": "stream",
     "text": [
      "44\n"
     ]
    }
   ],
   "source": [
    "result=0\n",
    "for i in range(len(u)):\n",
    "    result+=u[i]*v[i]\n",
    "print(result)"
   ]
  },
  {
   "cell_type": "code",
   "execution_count": 19,
   "metadata": {},
   "outputs": [
    {
     "name": "stdout",
     "output_type": "stream",
     "text": [
      "44\n"
     ]
    }
   ],
   "source": [
    "result=np.dot(u,v)\n",
    "print(result)"
   ]
  },
  {
   "cell_type": "markdown",
   "metadata": {},
   "source": [
    "#### kronecker delta"
   ]
  },
  {
   "cell_type": "code",
   "execution_count": 22,
   "metadata": {},
   "outputs": [
    {
     "name": "stdout",
     "output_type": "stream",
     "text": [
      "1\n",
      "0\n"
     ]
    }
   ],
   "source": [
    "def kron(i,j):\n",
    "    if i==j:\n",
    "        return 1\n",
    "    else:\n",
    "        return 0\n",
    "print(kron(1,1))\n",
    "print(kron(1,2))"
   ]
  },
  {
   "cell_type": "code",
   "execution_count": 23,
   "metadata": {},
   "outputs": [
    {
     "name": "stdout",
     "output_type": "stream",
     "text": [
      "1 = 1\n",
      "0 = 0\n",
      "0 = 0\n",
      "0 = 0\n",
      "1 = 1\n",
      "0 = 0\n",
      "0 = 0\n",
      "0 = 0\n",
      "1 = 1\n"
     ]
    }
   ],
   "source": [
    "e=[e1,e2,e3]\n",
    "for i in range(len(e)):\n",
    "    for j in range(len(e)):\n",
    "        print(np.dot(e[i],e[j]),'=',kron(i,j))"
   ]
  },
  {
   "cell_type": "markdown",
   "metadata": {},
   "source": [
    "## 3.Matrix Array Notation"
   ]
  },
  {
   "cell_type": "code",
   "execution_count": 26,
   "metadata": {},
   "outputs": [
    {
     "name": "stdout",
     "output_type": "stream",
     "text": [
      "v =\n",
      " [[0.54488318]\n",
      " [0.4236548 ]\n",
      " [0.64589411]]\n",
      "v.T =\n",
      " [[0.54488318 0.4236548  0.64589411]]\n"
     ]
    }
   ],
   "source": [
    "# Create a random 3 x 1 random matrix array from uniform distribution from 0 to 1\n",
    "v=np.random.random((3,1))\n",
    "\n",
    "#Transposing it yields 1 x 3 matrix array\n",
    "print('v =\\n',v)\n",
    "print('v.T =\\n',v.T)"
   ]
  },
  {
   "cell_type": "code",
   "execution_count": 30,
   "metadata": {},
   "outputs": [
    {
     "name": "stdout",
     "output_type": "stream",
     "text": [
      "u =\n",
      " [[0.38344152]\n",
      " [0.79172504]\n",
      " [0.52889492]]\n",
      "u^T =\n",
      " [[0.38344152 0.79172504 0.52889492]]\n"
     ]
    }
   ],
   "source": [
    "# Create a random 3 x 1 random matrix array from 0 to 1\n",
    "u=np.random.random((3,1))\n",
    "\n",
    "#Transposing it yields 1 X 3 matrix array\n",
    "print('u =\\n',u)\n",
    "print('u^T =\\n',u.T)"
   ]
  },
  {
   "cell_type": "markdown",
   "metadata": {},
   "source": [
    "##### an example of matrix multiplication"
   ]
  },
  {
   "cell_type": "code",
   "execution_count": 33,
   "metadata": {},
   "outputs": [
    {
     "name": "stdout",
     "output_type": "stream",
     "text": [
      "u^T.v =\n",
      " [[0.88595906]]\n"
     ]
    }
   ],
   "source": [
    "result=np.matmul(u.T,v)\n",
    "print('u^T.v =\\n',result)"
   ]
  },
  {
   "cell_type": "markdown",
   "metadata": {},
   "source": [
    "#### The 3 X 3 matrix array"
   ]
  },
  {
   "cell_type": "code",
   "execution_count": 34,
   "metadata": {},
   "outputs": [
    {
     "name": "stdout",
     "output_type": "stream",
     "text": [
      "I =\n",
      " [[1. 0. 0.]\n",
      " [0. 1. 0.]\n",
      " [0. 0. 1.]]\n"
     ]
    }
   ],
   "source": [
    "I=np.eye(3)\n",
    "\n",
    "print('I =\\n',I)"
   ]
  },
  {
   "cell_type": "code",
   "execution_count": 41,
   "metadata": {},
   "outputs": [
    {
     "name": "stdout",
     "output_type": "stream",
     "text": [
      "u =\n",
      " [[0.26455561]\n",
      " [0.77423369]\n",
      " [0.45615033]]\n",
      "I =\n",
      " [[1. 0. 0.]\n",
      " [0. 1. 0.]\n",
      " [0. 0. 1.]]\n",
      "u.I =\n",
      " [[0.26455561]\n",
      " [0.77423369]\n",
      " [0.45615033]]\n"
     ]
    }
   ],
   "source": [
    "u=np.random.random((3,1))\n",
    "result=np.dot(I,u)\n",
    "\n",
    "print('u =\\n',u)\n",
    "print('I =\\n',I)\n",
    "print('u.I =\\n',result)"
   ]
  },
  {
   "cell_type": "code",
   "execution_count": 45,
   "metadata": {},
   "outputs": [
    {
     "name": "stdout",
     "output_type": "stream",
     "text": [
      "u^T.v=\n",
      " [[ 4  5  6]\n",
      " [ 8 10 12]\n",
      " [12 15 18]]\n"
     ]
    }
   ],
   "source": [
    "u=np.array([[1,2,3]])\n",
    "v=np.array([[4,5,6]])\n",
    "\n",
    "result=np.matmul(u.T,v)\n",
    "print('u^T.v=\\n',result)"
   ]
  },
  {
   "cell_type": "code",
   "execution_count": 49,
   "metadata": {},
   "outputs": [
    {
     "name": "stdout",
     "output_type": "stream",
     "text": [
      "uXv =\n",
      " [[ 4  5  6]\n",
      " [ 8 10 12]\n",
      " [12 15 18]]\n"
     ]
    }
   ],
   "source": [
    "#Squeezing the matrix (2D) arrays makes them vector 1D array\n",
    "u=u.squeeze()\n",
    "v=v.squeeze()\n",
    "result=np.tensordot(u,v,axes=0)\n",
    "print('uXv =\\n',result)"
   ]
  },
  {
   "cell_type": "code",
   "execution_count": 55,
   "metadata": {},
   "outputs": [
    {
     "name": "stdout",
     "output_type": "stream",
     "text": [
      "Q =\n",
      " [[4 2 0]\n",
      " [3 2 0]\n",
      " [7 5 0]]\n",
      "u =\n",
      " [[1]\n",
      " [2]\n",
      " [3]]\n",
      "Q.u =\n",
      " [[ 8]\n",
      " [ 7]\n",
      " [17]]\n"
     ]
    }
   ],
   "source": [
    "Q=np.random.randint(9,size=(3,3))\n",
    "u=np.array([[1],\n",
    "            [2],\n",
    "            [3]])\n",
    "result=np.matmul(Q,u)\n",
    "print('Q =\\n',Q)\n",
    "print('u =\\n',u)\n",
    "print('Q.u =\\n',result)"
   ]
  },
  {
   "cell_type": "code",
   "execution_count": 56,
   "metadata": {},
   "outputs": [
    {
     "name": "stdout",
     "output_type": "stream",
     "text": [
      "A =\n",
      " [[2 7 2]\n",
      " [2 3 3]\n",
      " [2 3 4]]\n",
      "B =\n",
      " [[1 2 1]\n",
      " [4 6 8]\n",
      " [2 3 0]]\n",
      "(A.B)^T [[34 20 22]\n",
      " [52 31 34]\n",
      " [58 26 26]]\n"
     ]
    }
   ],
   "source": [
    "A=np.random.randint(9,size=(3,3))\n",
    "B=np.random.randint(9,size=(3,3))\n",
    "\n",
    "result=np.dot(A,B).T\n",
    "\n",
    "print('A =\\n',A)\n",
    "print('B =\\n',B)\n",
    "print('(A.B)^T',result)"
   ]
  },
  {
   "cell_type": "code",
   "execution_count": 57,
   "metadata": {},
   "outputs": [
    {
     "name": "stdout",
     "output_type": "stream",
     "text": [
      "A^T =\n",
      " [[2 2 2]\n",
      " [7 3 3]\n",
      " [2 3 4]]\n",
      "B^T =\n",
      " [[1 4 2]\n",
      " [2 6 3]\n",
      " [1 8 0]]\n",
      "B^T.A^T =\n",
      " [[34 20 22]\n",
      " [52 31 34]\n",
      " [58 26 26]]\n"
     ]
    }
   ],
   "source": [
    "result=np.dot(B.T,A.T)\n",
    "print('A^T =\\n',A.T)\n",
    "print('B^T =\\n',B.T)\n",
    "print('B^T.A^T =\\n',result)"
   ]
  },
  {
   "cell_type": "markdown",
   "metadata": {},
   "source": [
    "## 4. Tensor Arrays"
   ]
  },
  {
   "cell_type": "code",
   "execution_count": 63,
   "metadata": {},
   "outputs": [
    {
     "name": "stdout",
     "output_type": "stream",
     "text": [
      "A =\n",
      " [1 1 0]\n",
      "B =\n",
      " [[3 8 8 4]\n",
      " [4 0 3 7]\n",
      " [3 2 1 1]\n",
      " [2 1 4 2]]\n",
      "A x B =\n",
      " [[[3 8 8 4]\n",
      "  [4 0 3 7]\n",
      "  [3 2 1 1]\n",
      "  [2 1 4 2]]\n",
      "\n",
      " [[3 8 8 4]\n",
      "  [4 0 3 7]\n",
      "  [3 2 1 1]\n",
      "  [2 1 4 2]]\n",
      "\n",
      " [[0 0 0 0]\n",
      "  [0 0 0 0]\n",
      "  [0 0 0 0]\n",
      "  [0 0 0 0]]]\n"
     ]
    }
   ],
   "source": [
    "A=np.random.randint(9,size=(3))\n",
    "B=np.random.randint(9,size=(4,4))\n",
    "\n",
    "print('A =\\n',A)\n",
    "print('B =\\n',B)\n",
    "print('A x B =\\n',np.tensordot(A,B,axes=0))"
   ]
  },
  {
   "cell_type": "markdown",
   "metadata": {},
   "source": [
    "#### consider this list of matrices"
   ]
  },
  {
   "cell_type": "code",
   "execution_count": 70,
   "metadata": {},
   "outputs": [
    {
     "name": "stdout",
     "output_type": "stream",
     "text": [
      "A =\n",
      " [array([[1, 2, 3, 6],\n",
      "       [4, 5, 6, 7],\n",
      "       [7, 8, 9, 1]])\n",
      " array([[1, 2, 3, 4],\n",
      "       [5, 6, 7, 8]])\n",
      " array([[1, 2, 3, 4],\n",
      "       [5, 6, 7, 8],\n",
      "       [2, 8, 3, 1],\n",
      "       [9, 4, 6, 1]])]\n"
     ]
    }
   ],
   "source": [
    "a1=np.array([np.array([1,2,3,6]),\n",
    "             np.array([4,5,6,7]),\n",
    "             np.array([7,8,9,1])\n",
    "            ])\n",
    "a2=np.array([np.array([1,2,3,4]),\n",
    "             np.array([5,6,7,8])\n",
    "            ])\n",
    "a3=np.array([np.array([1,2,3,4]),\n",
    "             np.array([5,6,7,8]),\n",
    "             np.array([2,8,3,1]),\n",
    "             np.array([9,4,6,1])\n",
    "            ])\n",
    "A=np.array([a1,a2,a3])\n",
    "print('A =\\n',A.T)"
   ]
  },
  {
   "cell_type": "markdown",
   "metadata": {},
   "source": [
    "### How to subset the first two elements to make a tensor array"
   ]
  },
  {
   "cell_type": "code",
   "execution_count": 71,
   "metadata": {},
   "outputs": [
    {
     "name": "stdout",
     "output_type": "stream",
     "text": [
      "A =\n",
      " [array([[1, 2, 3, 6],\n",
      "       [4, 5, 6, 7],\n",
      "       [7, 8, 9, 1]])\n",
      " array([[1, 2, 3, 4],\n",
      "       [5, 6, 7, 8]])\n",
      " array([[1, 2, 3, 4],\n",
      "       [5, 6, 7, 8],\n",
      "       [2, 8, 3, 1],\n",
      "       [9, 4, 6, 1]])]\n",
      "A1 =\n",
      " [[[1 2 3 6]\n",
      "  [4 5 6 7]]\n",
      "\n",
      " [[1 2 3 4]\n",
      "  [5 6 7 8]]\n",
      "\n",
      " [[1 2 3 4]\n",
      "  [5 6 7 8]]]\n"
     ]
    }
   ],
   "source": [
    "A1=[record[:2] for record in A ]\n",
    "A1=np.array(A1)\n",
    "print('A =\\n',A)\n",
    "print('A1 =\\n',A1)"
   ]
  },
  {
   "cell_type": "markdown",
   "metadata": {},
   "source": [
    "### How to subset the first two elements to make a tensor array"
   ]
  },
  {
   "cell_type": "code",
   "execution_count": 72,
   "metadata": {},
   "outputs": [
    {
     "name": "stdout",
     "output_type": "stream",
     "text": [
      "A =\n",
      " [array([[1, 2, 3, 6],\n",
      "       [4, 5, 6, 7],\n",
      "       [7, 8, 9, 1]])\n",
      " array([[1, 2, 3, 4],\n",
      "       [5, 6, 7, 8]])\n",
      " array([[1, 2, 3, 4],\n",
      "       [5, 6, 7, 8],\n",
      "       [2, 8, 3, 1],\n",
      "       [9, 4, 6, 1]])]\n",
      "A1 =\n",
      " [array([[1, 2, 3, 6]]) array([], shape=(0, 4), dtype=int32)\n",
      " array([[1, 2, 3, 4],\n",
      "       [5, 6, 7, 8]])]\n"
     ]
    }
   ],
   "source": [
    "A1=[record[:-2] for record in A ]\n",
    "A1=np.array(A1)\n",
    "print('A =\\n',A)\n",
    "print('A1 =\\n',A1)"
   ]
  },
  {
   "cell_type": "markdown",
   "metadata": {},
   "source": [
    "### How to pad at the bottom to make a tensor array"
   ]
  },
  {
   "cell_type": "code",
   "execution_count": 76,
   "metadata": {},
   "outputs": [
    {
     "name": "stdout",
     "output_type": "stream",
     "text": [
      "A =\n",
      " [array([[1, 2, 3, 6],\n",
      "       [4, 5, 6, 7],\n",
      "       [7, 8, 9, 1]])\n",
      " array([[1, 2, 3, 4],\n",
      "       [5, 6, 7, 8]])\n",
      " array([[1, 2, 3, 4],\n",
      "       [5, 6, 7, 8],\n",
      "       [2, 8, 3, 1],\n",
      "       [9, 4, 6, 1]])]\n",
      "A3 =\n",
      " [[[1 2 3 6]\n",
      "  [4 5 6 7]\n",
      "  [7 8 9 1]\n",
      "  [0 0 0 0]]\n",
      "\n",
      " [[1 2 3 4]\n",
      "  [5 6 7 8]\n",
      "  [0 0 0 0]\n",
      "  [0 0 0 0]]\n",
      "\n",
      " [[1 2 3 4]\n",
      "  [5 6 7 8]\n",
      "  [2 8 3 1]\n",
      "  [9 4 6 1]]]\n"
     ]
    }
   ],
   "source": [
    "pad_below1 = 4 - len(a1)\n",
    "pad_below2 = 4 - len(a2)\n",
    "pad_below3 = 4 - len(a3)\n",
    "\n",
    "pad_above = 0\n",
    "pad_left  = 0\n",
    "par_right = 0\n",
    "n_add=[((pad_above,pad_below1),(pad_left, par_right)),\n",
    "       ((pad_above,pad_below2),(pad_left, par_right)),\n",
    "       ((pad_above,pad_below3), (pad_left, par_right))]\n",
    "A3=[np.pad(A[i],pad_width=n_add[i],mode='constant',constant_values=0) for i in range(3)]\n",
    "A3=np.array(A3)\n",
    "\n",
    "print('A =\\n',A)\n",
    "print('A3 =\\n',A3)"
   ]
  },
  {
   "cell_type": "markdown",
   "metadata": {},
   "source": [
    "#### How to pad at the top to make a tensor array"
   ]
  },
  {
   "cell_type": "code",
   "execution_count": 77,
   "metadata": {},
   "outputs": [
    {
     "name": "stdout",
     "output_type": "stream",
     "text": [
      "A =\n",
      " [array([[1, 2, 3, 6],\n",
      "       [4, 5, 6, 7],\n",
      "       [7, 8, 9, 1]])\n",
      " array([[1, 2, 3, 4],\n",
      "       [5, 6, 7, 8]])\n",
      " array([[1, 2, 3, 4],\n",
      "       [5, 6, 7, 8],\n",
      "       [2, 8, 3, 1],\n",
      "       [9, 4, 6, 1]])]\n",
      "A3 =\n",
      " [[[1 2 3 6]\n",
      "  [4 5 6 7]\n",
      "  [7 8 9 1]\n",
      "  [0 0 0 0]]\n",
      "\n",
      " [[1 2 3 4]\n",
      "  [5 6 7 8]\n",
      "  [0 0 0 0]\n",
      "  [0 0 0 0]]\n",
      "\n",
      " [[1 2 3 4]\n",
      "  [5 6 7 8]\n",
      "  [2 8 3 1]\n",
      "  [9 4 6 1]]]\n"
     ]
    }
   ],
   "source": [
    "pad_above1 = 4 - len(a1)\n",
    "pad_above2 = 4 - len(a2)\n",
    "pad_above3 = 4 - len(a3)\n",
    "\n",
    "pad_below = 0\n",
    "pad_left  = 0\n",
    "par_right = 0\n",
    "n_add=[((pad_below,pad_above1),(pad_left, par_right)),\n",
    "       ((pad_below,pad_above2),(pad_left, par_right)),\n",
    "       ((pad_below,pad_above3), (pad_left, par_right))]\n",
    "A4=[np.pad(A[i],pad_width=n_add[i],mode='constant',constant_values=0) for i in range(3)]\n",
    "A4=np.array(A3)\n",
    "\n",
    "print('A =\\n',A)\n",
    "print('A3 =\\n',A4)"
   ]
  },
  {
   "cell_type": "markdown",
   "metadata": {},
   "source": [
    "#### How to vertically stack the 3D object to make a2D matrix array"
   ]
  },
  {
   "cell_type": "code",
   "execution_count": 78,
   "metadata": {},
   "outputs": [
    {
     "name": "stdout",
     "output_type": "stream",
     "text": [
      "A =\n",
      " [array([[1, 2, 3, 6],\n",
      "       [4, 5, 6, 7],\n",
      "       [7, 8, 9, 1]])\n",
      " array([[1, 2, 3, 4],\n",
      "       [5, 6, 7, 8]])\n",
      " array([[1, 2, 3, 4],\n",
      "       [5, 6, 7, 8],\n",
      "       [2, 8, 3, 1],\n",
      "       [9, 4, 6, 1]])]\n",
      "A5 =\n",
      " [[1 2 3 6]\n",
      " [4 5 6 7]\n",
      " [7 8 9 1]\n",
      " [1 2 3 4]\n",
      " [5 6 7 8]\n",
      " [1 2 3 4]\n",
      " [5 6 7 8]\n",
      " [2 8 3 1]\n",
      " [9 4 6 1]]\n"
     ]
    }
   ],
   "source": [
    "A5 = np.vstack(A)\n",
    "\n",
    "print('A =\\n',A)\n",
    "print('A5 =\\n',A5)"
   ]
  },
  {
   "cell_type": "code",
   "execution_count": null,
   "metadata": {},
   "outputs": [],
   "source": []
  }
 ],
 "metadata": {
  "kernelspec": {
   "display_name": "Python 3",
   "language": "python",
   "name": "python3"
  },
  "language_info": {
   "codemirror_mode": {
    "name": "ipython",
    "version": 3
   },
   "file_extension": ".py",
   "mimetype": "text/x-python",
   "name": "python",
   "nbconvert_exporter": "python",
   "pygments_lexer": "ipython3",
   "version": "3.7.3"
  }
 },
 "nbformat": 4,
 "nbformat_minor": 2
}
